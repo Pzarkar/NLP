{
  "nbformat": 4,
  "nbformat_minor": 0,
  "metadata": {
    "colab": {
      "name": "Text Processing_05.ipynb",
      "provenance": [],
      "include_colab_link": true
    },
    "kernelspec": {
      "name": "python3",
      "display_name": "Python 3"
    },
    "language_info": {
      "name": "python"
    }
  },
  "cells": [
    {
      "cell_type": "markdown",
      "metadata": {
        "id": "view-in-github",
        "colab_type": "text"
      },
      "source": [
        "<a href=\"https://colab.research.google.com/github/Pzarkar/NLP/blob/main/Text_Processing_05.ipynb\" target=\"_parent\"><img src=\"https://colab.research.google.com/assets/colab-badge.svg\" alt=\"Open In Colab\"/></a>"
      ]
    },
    {
      "cell_type": "markdown",
      "metadata": {
        "id": "Kz8jBteDRJS0"
      },
      "source": [
        "**Text Processing**\n",
        "1.\tText Lowercase\n",
        "2.\tRemove Numbers\n",
        "3.\tRemove Punctuation\n",
        "4.\tRemove Whitespaces\n",
        "5.\tRemove Default Stopwords \n",
        "6.\tStemming\n",
        "7.\tLemmatization\n"
      ]
    },
    {
      "cell_type": "code",
      "metadata": {
        "id": "YgRf4HRLR4Z2"
      },
      "source": [
        "# import the necessary libraries\n",
        "import nltk\n",
        "import string\n",
        "import re"
      ],
      "execution_count": 1,
      "outputs": []
    },
    {
      "cell_type": "markdown",
      "metadata": {
        "id": "ribFIwWsRXmG"
      },
      "source": [
        "**1.\tText Lowercase**"
      ]
    },
    {
      "cell_type": "code",
      "metadata": {
        "colab": {
          "base_uri": "https://localhost:8080/",
          "height": 35
        },
        "id": "xBBcDB25RDy1",
        "outputId": "59a6be4e-e4cf-4e1f-ded3-13fe4ab9c553"
      },
      "source": [
        "def text_lowercase(text):\n",
        "\treturn text.lower()\n",
        "\n",
        "input_str = \"Hey, did you know that the summer break is coming? Amazing right !! It's only 5 more days !!\"\n",
        "text_lowercase(input_str)\n"
      ],
      "execution_count": 2,
      "outputs": [
        {
          "output_type": "execute_result",
          "data": {
            "application/vnd.google.colaboratory.intrinsic+json": {
              "type": "string"
            },
            "text/plain": [
              "\"hey, did you know that the summer break is coming? amazing right !! it's only 5 more days !!\""
            ]
          },
          "metadata": {
            "tags": []
          },
          "execution_count": 2
        }
      ]
    },
    {
      "cell_type": "markdown",
      "metadata": {
        "id": "oxR69pinRoMp"
      },
      "source": [
        "**2.\tRemove Numbers**"
      ]
    },
    {
      "cell_type": "code",
      "metadata": {
        "colab": {
          "base_uri": "https://localhost:8080/",
          "height": 35
        },
        "id": "kLxbK3OSRpvI",
        "outputId": "563d88f0-41df-4c9b-866f-799fc7e6c14a"
      },
      "source": [
        "# Remove numbers\n",
        "def remove_numbers(text):\n",
        "\tresult = re.sub(r'\\d+', '', text)\n",
        "\treturn result\n",
        "\n",
        "input_str = \"There are 3 balls in this bag, and 12 in the other one.\"\n",
        "remove_numbers(input_str)\n"
      ],
      "execution_count": 3,
      "outputs": [
        {
          "output_type": "execute_result",
          "data": {
            "application/vnd.google.colaboratory.intrinsic+json": {
              "type": "string"
            },
            "text/plain": [
              "'There are  balls in this bag, and  in the other one.'"
            ]
          },
          "metadata": {
            "tags": []
          },
          "execution_count": 3
        }
      ]
    },
    {
      "cell_type": "markdown",
      "metadata": {
        "id": "SwdHL4NzSFyk"
      },
      "source": [
        "**3.\tRemove Punctuation**"
      ]
    },
    {
      "cell_type": "code",
      "metadata": {
        "colab": {
          "base_uri": "https://localhost:8080/",
          "height": 35
        },
        "id": "nwDOwaVASHPg",
        "outputId": "8511cef9-18a0-43fe-d67c-f52f7dad8c29"
      },
      "source": [
        "# remove punctuation\n",
        "def remove_punctuation(text):\n",
        "\ttranslator = str.maketrans('', '', string.punctuation)\n",
        "\treturn text.translate(translator)\n",
        "\n",
        "input_str = \"Hey, did you know that the summer break is coming? Amazing right !! It's only 5 more days !!\"\n",
        "remove_punctuation(input_str)\n"
      ],
      "execution_count": 4,
      "outputs": [
        {
          "output_type": "execute_result",
          "data": {
            "application/vnd.google.colaboratory.intrinsic+json": {
              "type": "string"
            },
            "text/plain": [
              "'Hey did you know that the summer break is coming Amazing right  Its only 5 more days '"
            ]
          },
          "metadata": {
            "tags": []
          },
          "execution_count": 4
        }
      ]
    },
    {
      "cell_type": "markdown",
      "metadata": {
        "id": "GuH1h2KiSVOr"
      },
      "source": [
        "**4.\tRemove Whitespaces**"
      ]
    },
    {
      "cell_type": "code",
      "metadata": {
        "colab": {
          "base_uri": "https://localhost:8080/",
          "height": 35
        },
        "id": "oxGrdFczSXYA",
        "outputId": "5d6c3fc7-2c64-4f94-e6e6-00bcf2bf31ff"
      },
      "source": [
        "# remove whitespace from text\n",
        "def remove_whitespace(text):\n",
        "\treturn \" \".join(text.split())\n",
        "\n",
        "input_str = \"     we         don't      need      the       given        questions\"\n",
        "remove_whitespace(input_str)\n"
      ],
      "execution_count": 5,
      "outputs": [
        {
          "output_type": "execute_result",
          "data": {
            "application/vnd.google.colaboratory.intrinsic+json": {
              "type": "string"
            },
            "text/plain": [
              "\"we don't need the given questions\""
            ]
          },
          "metadata": {
            "tags": []
          },
          "execution_count": 5
        }
      ]
    },
    {
      "cell_type": "markdown",
      "metadata": {
        "id": "YlU47Do-SpLt"
      },
      "source": [
        "**5.\tRemove Default Stopwords**"
      ]
    },
    {
      "cell_type": "code",
      "metadata": {
        "id": "0eeYI5-FJu6O"
      },
      "source": [
        "import nltk"
      ],
      "execution_count": 6,
      "outputs": []
    },
    {
      "cell_type": "code",
      "metadata": {
        "colab": {
          "base_uri": "https://localhost:8080/"
        },
        "id": "e0IrloM5TJMh",
        "outputId": "627b00eb-b14c-4fa5-e77c-51d91820eca3"
      },
      "source": [
        "nltk.download('stopwords')\n",
        "nltk.download('punkt')"
      ],
      "execution_count": 7,
      "outputs": [
        {
          "output_type": "stream",
          "text": [
            "[nltk_data] Downloading package stopwords to /root/nltk_data...\n",
            "[nltk_data]   Unzipping corpora/stopwords.zip.\n",
            "[nltk_data] Downloading package punkt to /root/nltk_data...\n",
            "[nltk_data]   Unzipping tokenizers/punkt.zip.\n"
          ],
          "name": "stdout"
        },
        {
          "output_type": "execute_result",
          "data": {
            "text/plain": [
              "True"
            ]
          },
          "metadata": {
            "tags": []
          },
          "execution_count": 7
        }
      ]
    },
    {
      "cell_type": "code",
      "metadata": {
        "colab": {
          "base_uri": "https://localhost:8080/"
        },
        "id": "T0v_1UCmSrVM",
        "outputId": "5b2f4942-6f07-4353-e11e-451eb94e340c"
      },
      "source": [
        "from nltk.corpus import stopwords\n",
        "from nltk.tokenize import word_tokenize\n",
        "\n",
        "# remove stopwords function\n",
        "def remove_stopwords(text):\n",
        "\tstop_words = set(stopwords.words(\"english\"))\n",
        "\tword_tokens = word_tokenize(text)\n",
        "\tfiltered_text = [word for word in word_tokens if word not in stop_words]\n",
        "\treturn filtered_text\n",
        "\n",
        "example_text = \"This is a sample sentence and we are going to remove the stopwords from this.\"\n",
        "remove_stopwords(example_text)\n",
        "\n"
      ],
      "execution_count": 8,
      "outputs": [
        {
          "output_type": "execute_result",
          "data": {
            "text/plain": [
              "['This', 'sample', 'sentence', 'going', 'remove', 'stopwords', '.']"
            ]
          },
          "metadata": {
            "tags": []
          },
          "execution_count": 8
        }
      ]
    },
    {
      "cell_type": "markdown",
      "metadata": {
        "id": "Nn1CHVJITYfM"
      },
      "source": [
        "**6.\tStemming**"
      ]
    },
    {
      "cell_type": "code",
      "metadata": {
        "colab": {
          "base_uri": "https://localhost:8080/"
        },
        "id": "Zlah9MnFTas1",
        "outputId": "9bc27074-35d5-4c9a-9edf-2258ebbe8fa3"
      },
      "source": [
        "from nltk.stem.porter import PorterStemmer\n",
        "from nltk.tokenize import word_tokenize\n",
        "stemmer = PorterStemmer()\n",
        "\n",
        "# stem words in the list of tokenised words\n",
        "def stem_words(text):\n",
        "\tword_tokens = word_tokenize(text)\n",
        "\tstems = [stemmer.stem(word) for word in word_tokens]\n",
        "\treturn stems\n",
        "\n",
        "text = 'data science uses scientific methods algorithms and many types of processes'\n",
        "stem_words(text)\n"
      ],
      "execution_count": 9,
      "outputs": [
        {
          "output_type": "execute_result",
          "data": {
            "text/plain": [
              "['data',\n",
              " 'scienc',\n",
              " 'use',\n",
              " 'scientif',\n",
              " 'method',\n",
              " 'algorithm',\n",
              " 'and',\n",
              " 'mani',\n",
              " 'type',\n",
              " 'of',\n",
              " 'process']"
            ]
          },
          "metadata": {
            "tags": []
          },
          "execution_count": 9
        }
      ]
    },
    {
      "cell_type": "markdown",
      "metadata": {
        "id": "6kzN6wiyTmLL"
      },
      "source": [
        "**7.\tLemmatization**"
      ]
    },
    {
      "cell_type": "code",
      "metadata": {
        "id": "2G0Ft3xBTtzH",
        "colab": {
          "base_uri": "https://localhost:8080/"
        },
        "outputId": "2d40da5c-69c5-4220-9900-334e6d1d8335"
      },
      "source": [
        "nltk.download('wordnet')"
      ],
      "execution_count": 10,
      "outputs": [
        {
          "output_type": "stream",
          "text": [
            "[nltk_data] Downloading package wordnet to /root/nltk_data...\n",
            "[nltk_data]   Unzipping corpora/wordnet.zip.\n"
          ],
          "name": "stdout"
        },
        {
          "output_type": "execute_result",
          "data": {
            "text/plain": [
              "True"
            ]
          },
          "metadata": {
            "tags": []
          },
          "execution_count": 10
        }
      ]
    },
    {
      "cell_type": "code",
      "metadata": {
        "colab": {
          "base_uri": "https://localhost:8080/"
        },
        "id": "S6ZZxR8zToGM",
        "outputId": "378141fc-b46c-4adc-bb59-4956a0d70294"
      },
      "source": [
        "from nltk.stem import WordNetLemmatizer\n",
        "from nltk.tokenize import word_tokenize\n",
        "lemmatizer = WordNetLemmatizer()\n",
        "# lemmatize string\n",
        "def lemmatize_word(text):\n",
        "\tword_tokens = word_tokenize(text)\n",
        "\t# provide context i.e. part-of-speech\n",
        "\tlemmas = [lemmatizer.lemmatize(word, pos ='v') for word in word_tokens]\n",
        "\treturn lemmas\n",
        "\n",
        "text = 'data science uses scientific methods algorithms and many types of processes'\n",
        "lemmatize_word(text)\n"
      ],
      "execution_count": 11,
      "outputs": [
        {
          "output_type": "execute_result",
          "data": {
            "text/plain": [
              "['data',\n",
              " 'science',\n",
              " 'use',\n",
              " 'scientific',\n",
              " 'methods',\n",
              " 'algorithms',\n",
              " 'and',\n",
              " 'many',\n",
              " 'type',\n",
              " 'of',\n",
              " 'process']"
            ]
          },
          "metadata": {
            "tags": []
          },
          "execution_count": 11
        }
      ]
    }
  ]
}